{
 "cells": [
  {
   "cell_type": "code",
   "execution_count": 222,
   "metadata": {
    "collapsed": true
   },
   "outputs": [],
   "source": [
    "import numpy as np"
   ]
  },
  {
   "cell_type": "code",
   "execution_count": 223,
   "metadata": {
    "collapsed": true
   },
   "outputs": [],
   "source": [
    "# np 数组\n",
    "data1 = [6, 7.5, 8.1, 0, 1]\n",
    "arr1 = np.array(data1)"
   ]
  },
  {
   "cell_type": "code",
   "execution_count": 224,
   "metadata": {},
   "outputs": [
    {
     "data": {
      "text/plain": [
       "array([ 6. ,  7.5,  8.1,  0. ,  1. ])"
      ]
     },
     "execution_count": 224,
     "metadata": {},
     "output_type": "execute_result"
    }
   ],
   "source": [
    "arr1"
   ]
  },
  {
   "cell_type": "code",
   "execution_count": 225,
   "metadata": {
    "collapsed": true
   },
   "outputs": [],
   "source": [
    "data2 = [[1,2,3,4], [5,6,7,8]]\n",
    "arr2 = np.array(data2)"
   ]
  },
  {
   "cell_type": "code",
   "execution_count": 226,
   "metadata": {},
   "outputs": [
    {
     "data": {
      "text/plain": [
       "array([[1, 2, 3, 4],\n",
       "       [5, 6, 7, 8]])"
      ]
     },
     "execution_count": 226,
     "metadata": {},
     "output_type": "execute_result"
    }
   ],
   "source": [
    "arr2"
   ]
  },
  {
   "cell_type": "code",
   "execution_count": 227,
   "metadata": {},
   "outputs": [
    {
     "data": {
      "text/plain": [
       "(2, (2, 4))"
      ]
     },
     "execution_count": 227,
     "metadata": {},
     "output_type": "execute_result"
    }
   ],
   "source": [
    "arr2.ndim, arr2.shape"
   ]
  },
  {
   "cell_type": "code",
   "execution_count": 228,
   "metadata": {},
   "outputs": [
    {
     "data": {
      "text/plain": [
       "(dtype('float64'), dtype('int64'))"
      ]
     },
     "execution_count": 228,
     "metadata": {},
     "output_type": "execute_result"
    }
   ],
   "source": [
    "arr1.dtype, arr2.dtype"
   ]
  },
  {
   "cell_type": "code",
   "execution_count": 229,
   "metadata": {},
   "outputs": [
    {
     "data": {
      "text/plain": [
       "array([ 0.,  0.,  0.,  0.,  0.,  0.,  0.,  0.,  0.,  0.])"
      ]
     },
     "execution_count": 229,
     "metadata": {},
     "output_type": "execute_result"
    }
   ],
   "source": [
    "# 生成为0的数组或者矩阵\n",
    "np.zeros(10)"
   ]
  },
  {
   "cell_type": "code",
   "execution_count": 230,
   "metadata": {},
   "outputs": [
    {
     "data": {
      "text/plain": [
       "array([[[ 0.,  0.,  0.,  0.],\n",
       "        [ 0.,  0.,  0.,  0.],\n",
       "        [ 0.,  0.,  0.,  0.]],\n",
       "\n",
       "       [[ 0.,  0.,  0.,  0.],\n",
       "        [ 0.,  0.,  0.,  0.],\n",
       "        [ 0.,  0.,  0.,  0.]]])"
      ]
     },
     "execution_count": 230,
     "metadata": {},
     "output_type": "execute_result"
    }
   ],
   "source": [
    "np.zeros((2,3,4))"
   ]
  },
  {
   "cell_type": "code",
   "execution_count": 231,
   "metadata": {},
   "outputs": [
    {
     "data": {
      "text/plain": [
       "array([ 0,  1,  2,  3,  4,  5,  6,  7,  8,  9, 10, 11, 12, 13, 14])"
      ]
     },
     "execution_count": 231,
     "metadata": {},
     "output_type": "execute_result"
    }
   ],
   "source": [
    "np.arange(15)"
   ]
  },
  {
   "cell_type": "code",
   "execution_count": 232,
   "metadata": {},
   "outputs": [
    {
     "data": {
      "text/plain": [
       "array([[ 1.,  2.,  3.,  4.],\n",
       "       [ 5.,  6.,  7.,  8.]], dtype=float32)"
      ]
     },
     "execution_count": 232,
     "metadata": {},
     "output_type": "execute_result"
    }
   ],
   "source": [
    "arr2.astype(np.float32)"
   ]
  },
  {
   "cell_type": "code",
   "execution_count": 233,
   "metadata": {
    "collapsed": true
   },
   "outputs": [],
   "source": [
    "# Bool 索引\n",
    "names = np.array(['Bob', 'Joe', 'Will', 'Bob', 'Will', 'Joe', 'Joe'])\n",
    "data = np.random.randn(7,4)"
   ]
  },
  {
   "cell_type": "code",
   "execution_count": 16,
   "metadata": {},
   "outputs": [
    {
     "data": {
      "text/plain": [
       "array([[-0.13353137, -0.73844979, -2.29521691, -1.11846384],\n",
       "       [-0.54813877, -0.5456217 ,  1.27633123, -0.10499063],\n",
       "       [-0.99052857,  0.57259018,  0.23361166,  1.09455715],\n",
       "       [-0.06229756, -1.66129219, -1.57777369,  0.53407591],\n",
       "       [ 1.32088872, -1.14242841, -0.63838697, -0.47032865],\n",
       "       [-0.42131473,  0.55743031, -0.79817934,  0.05612636],\n",
       "       [-0.70513666, -1.15016668, -1.22765435,  0.38977258]])"
      ]
     },
     "execution_count": 16,
     "metadata": {},
     "output_type": "execute_result"
    }
   ],
   "source": [
    "data"
   ]
  },
  {
   "cell_type": "code",
   "execution_count": 17,
   "metadata": {},
   "outputs": [
    {
     "data": {
      "text/plain": [
       "array(['Bob', 'Joe', 'Will', 'Bob', 'Will', 'Joe', 'Joe'], \n",
       "      dtype='|S4')"
      ]
     },
     "execution_count": 17,
     "metadata": {},
     "output_type": "execute_result"
    }
   ],
   "source": [
    "names"
   ]
  },
  {
   "cell_type": "code",
   "execution_count": 18,
   "metadata": {},
   "outputs": [
    {
     "data": {
      "text/plain": [
       "array([ True, False, False,  True, False, False, False], dtype=bool)"
      ]
     },
     "execution_count": 18,
     "metadata": {},
     "output_type": "execute_result"
    }
   ],
   "source": [
    "names == 'Bob'"
   ]
  },
  {
   "cell_type": "code",
   "execution_count": 19,
   "metadata": {},
   "outputs": [
    {
     "data": {
      "text/plain": [
       "array([[-0.13353137, -0.73844979, -2.29521691, -1.11846384],\n",
       "       [-0.06229756, -1.66129219, -1.57777369,  0.53407591]])"
      ]
     },
     "execution_count": 19,
     "metadata": {},
     "output_type": "execute_result"
    }
   ],
   "source": [
    "data[names == 'Bob']"
   ]
  },
  {
   "cell_type": "code",
   "execution_count": 20,
   "metadata": {},
   "outputs": [
    {
     "data": {
      "text/plain": [
       "array([[-0.54813877, -0.5456217 ,  1.27633123, -0.10499063],\n",
       "       [-0.99052857,  0.57259018,  0.23361166,  1.09455715],\n",
       "       [ 1.32088872, -1.14242841, -0.63838697, -0.47032865],\n",
       "       [-0.42131473,  0.55743031, -0.79817934,  0.05612636],\n",
       "       [-0.70513666, -1.15016668, -1.22765435,  0.38977258]])"
      ]
     },
     "execution_count": 20,
     "metadata": {},
     "output_type": "execute_result"
    }
   ],
   "source": [
    "data[~(names == 'Bob')]"
   ]
  },
  {
   "cell_type": "code",
   "execution_count": 21,
   "metadata": {},
   "outputs": [
    {
     "data": {
      "text/plain": [
       "array([[-2.29521691, -1.11846384],\n",
       "       [-1.57777369,  0.53407591]])"
      ]
     },
     "execution_count": 21,
     "metadata": {},
     "output_type": "execute_result"
    }
   ],
   "source": [
    "data[names == 'Bob', 2:]"
   ]
  },
  {
   "cell_type": "code",
   "execution_count": 22,
   "metadata": {},
   "outputs": [
    {
     "data": {
      "text/plain": [
       "array([[-0.13353137, -0.73844979, -2.29521691, -1.11846384],\n",
       "       [-0.99052857,  0.57259018,  0.23361166,  1.09455715],\n",
       "       [-0.06229756, -1.66129219, -1.57777369,  0.53407591],\n",
       "       [ 1.32088872, -1.14242841, -0.63838697, -0.47032865]])"
      ]
     },
     "execution_count": 22,
     "metadata": {},
     "output_type": "execute_result"
    }
   ],
   "source": [
    "mask = (names == 'Bob') | (names == 'Will')\n",
    "data[mask]"
   ]
  },
  {
   "cell_type": "code",
   "execution_count": 23,
   "metadata": {
    "collapsed": true
   },
   "outputs": [],
   "source": [
    "# 利用 Bool 索引设置值\n",
    "data[data < 0] = 0"
   ]
  },
  {
   "cell_type": "code",
   "execution_count": 24,
   "metadata": {},
   "outputs": [
    {
     "data": {
      "text/plain": [
       "array([[ 0.        ,  0.        ,  0.        ,  0.        ],\n",
       "       [ 0.        ,  0.        ,  1.27633123,  0.        ],\n",
       "       [ 0.        ,  0.57259018,  0.23361166,  1.09455715],\n",
       "       [ 0.        ,  0.        ,  0.        ,  0.53407591],\n",
       "       [ 1.32088872,  0.        ,  0.        ,  0.        ],\n",
       "       [ 0.        ,  0.55743031,  0.        ,  0.05612636],\n",
       "       [ 0.        ,  0.        ,  0.        ,  0.38977258]])"
      ]
     },
     "execution_count": 24,
     "metadata": {},
     "output_type": "execute_result"
    }
   ],
   "source": [
    "data"
   ]
  },
  {
   "cell_type": "code",
   "execution_count": 25,
   "metadata": {},
   "outputs": [
    {
     "data": {
      "text/plain": [
       "array([[  2.00000000e+000,   2.00000000e+000,   7.90505033e-323,\n",
       "          1.27319747e-313],\n",
       "       [  1.27319747e-313,   1.27319747e-313,   5.04621293e+180,\n",
       "          2.00046229e-313],\n",
       "       [  7.79952704e-143,   4.50605558e-144,   3.26207459e-313,\n",
       "          1.32434421e+006],\n",
       "       [  4.03179200e-313,   1.00295113e-308,   1.08694442e-322,\n",
       "          1.11253693e-308],\n",
       "       [  0.00000000e+000,   0.00000000e+000,   0.00000000e+000,\n",
       "          0.00000000e+000],\n",
       "       [  0.00000000e+000,   0.00000000e+000,   0.00000000e+000,\n",
       "          0.00000000e+000],\n",
       "       [  0.00000000e+000,   0.00000000e+000,   0.00000000e+000,\n",
       "          0.00000000e+000],\n",
       "       [  0.00000000e+000,   0.00000000e+000,   6.94741422e-310,\n",
       "          2.22508447e-308]])"
      ]
     },
     "execution_count": 25,
     "metadata": {},
     "output_type": "execute_result"
    }
   ],
   "source": [
    "# 空\n",
    "attr = np.empty((8,4))\n",
    "attr"
   ]
  },
  {
   "cell_type": "code",
   "execution_count": 26,
   "metadata": {
    "collapsed": true
   },
   "outputs": [],
   "source": [
    "# 花式索引\n",
    "for i in range(8):\n",
    "    attr[i] = i"
   ]
  },
  {
   "cell_type": "code",
   "execution_count": 27,
   "metadata": {},
   "outputs": [
    {
     "data": {
      "text/plain": [
       "array([[ 0.,  0.,  0.,  0.],\n",
       "       [ 1.,  1.,  1.,  1.],\n",
       "       [ 2.,  2.,  2.,  2.],\n",
       "       [ 3.,  3.,  3.,  3.],\n",
       "       [ 4.,  4.,  4.,  4.],\n",
       "       [ 5.,  5.,  5.,  5.],\n",
       "       [ 6.,  6.,  6.,  6.],\n",
       "       [ 7.,  7.,  7.,  7.]])"
      ]
     },
     "execution_count": 27,
     "metadata": {},
     "output_type": "execute_result"
    }
   ],
   "source": [
    "attr"
   ]
  },
  {
   "cell_type": "code",
   "execution_count": 28,
   "metadata": {},
   "outputs": [
    {
     "data": {
      "text/plain": [
       "array([[ 0.,  0.,  0.,  0.],\n",
       "       [ 4.,  4.,  4.,  4.],\n",
       "       [ 6.,  6.,  6.,  6.]])"
      ]
     },
     "execution_count": 28,
     "metadata": {},
     "output_type": "execute_result"
    }
   ],
   "source": [
    "attr[[0,4,6]]"
   ]
  },
  {
   "cell_type": "code",
   "execution_count": 29,
   "metadata": {
    "collapsed": true
   },
   "outputs": [],
   "source": [
    "attr = np.arange(32).reshape((8,4))"
   ]
  },
  {
   "cell_type": "code",
   "execution_count": 30,
   "metadata": {},
   "outputs": [
    {
     "data": {
      "text/plain": [
       "array([[ 0,  1,  2,  3],\n",
       "       [ 4,  5,  6,  7],\n",
       "       [ 8,  9, 10, 11],\n",
       "       [12, 13, 14, 15],\n",
       "       [16, 17, 18, 19],\n",
       "       [20, 21, 22, 23],\n",
       "       [24, 25, 26, 27],\n",
       "       [28, 29, 30, 31]])"
      ]
     },
     "execution_count": 30,
     "metadata": {},
     "output_type": "execute_result"
    }
   ],
   "source": [
    "attr"
   ]
  },
  {
   "cell_type": "code",
   "execution_count": 31,
   "metadata": {},
   "outputs": [
    {
     "data": {
      "text/plain": [
       "array([ 0, 10, 15])"
      ]
     },
     "execution_count": 31,
     "metadata": {},
     "output_type": "execute_result"
    }
   ],
   "source": [
    "attr[[0, 2, 3], [0, 2, 3]]"
   ]
  },
  {
   "cell_type": "code",
   "execution_count": 32,
   "metadata": {},
   "outputs": [
    {
     "data": {
      "text/plain": [
       "array([[16, 17, 18, 19],\n",
       "       [12, 13, 14, 15],\n",
       "       [ 8,  9, 10, 11],\n",
       "       [ 4,  5,  6,  7]])"
      ]
     },
     "execution_count": 32,
     "metadata": {},
     "output_type": "execute_result"
    }
   ],
   "source": [
    "attr[np.ix_([4, 3, 2, 1])]"
   ]
  },
  {
   "cell_type": "code",
   "execution_count": 33,
   "metadata": {},
   "outputs": [
    {
     "data": {
      "text/plain": [
       "array([[ 0,  4,  8, 12, 16, 20, 24, 28],\n",
       "       [ 1,  5,  9, 13, 17, 21, 25, 29],\n",
       "       [ 2,  6, 10, 14, 18, 22, 26, 30],\n",
       "       [ 3,  7, 11, 15, 19, 23, 27, 31]])"
      ]
     },
     "execution_count": 33,
     "metadata": {},
     "output_type": "execute_result"
    }
   ],
   "source": [
    "# 转秩\n",
    "attr.T"
   ]
  },
  {
   "cell_type": "code",
   "execution_count": 34,
   "metadata": {},
   "outputs": [
    {
     "data": {
      "text/plain": [
       "array([ 0.        ,  1.        ,  1.41421356,  1.73205081,  2.        ,\n",
       "        2.23606798,  2.44948974,  2.64575131,  2.82842712,  3.        ])"
      ]
     },
     "execution_count": 34,
     "metadata": {},
     "output_type": "execute_result"
    }
   ],
   "source": [
    "# 算术计算\n",
    "attr = np.arange(10)\n",
    "np.sqrt(attr)"
   ]
  },
  {
   "cell_type": "code",
   "execution_count": 35,
   "metadata": {},
   "outputs": [
    {
     "data": {
      "text/plain": [
       "array([0, 1, 2, 3, 4, 5, 6, 7, 8, 9])"
      ]
     },
     "execution_count": 35,
     "metadata": {},
     "output_type": "execute_result"
    }
   ],
   "source": [
    "attr"
   ]
  },
  {
   "cell_type": "code",
   "execution_count": 36,
   "metadata": {},
   "outputs": [
    {
     "data": {
      "text/plain": [
       "array([  1.00000000e+00,   2.71828183e+00,   7.38905610e+00,\n",
       "         2.00855369e+01,   5.45981500e+01,   1.48413159e+02,\n",
       "         4.03428793e+02,   1.09663316e+03,   2.98095799e+03,\n",
       "         8.10308393e+03])"
      ]
     },
     "execution_count": 36,
     "metadata": {},
     "output_type": "execute_result"
    }
   ],
   "source": [
    "np.exp(attr)"
   ]
  },
  {
   "cell_type": "code",
   "execution_count": 37,
   "metadata": {},
   "outputs": [
    {
     "data": {
      "text/plain": [
       "array([ 2.5690251 ,  1.58291822,  0.11059892, -0.03032872,  0.98316587,\n",
       "        0.28485395,  0.22113071, -0.19407874])"
      ]
     },
     "execution_count": 37,
     "metadata": {},
     "output_type": "execute_result"
    }
   ],
   "source": [
    "x = np.random.randn(8)\n",
    "y = np.random.randn(8)\n",
    "np.maximum(x, y)"
   ]
  },
  {
   "cell_type": "code",
   "execution_count": 38,
   "metadata": {},
   "outputs": [
    {
     "data": {
      "text/plain": [
       "(array([ 0.19120304,  1.58291822,  0.11059892, -0.63123675,  0.39805522,\n",
       "         0.07083848,  0.22113071, -0.56189504]),\n",
       " array([ 2.5690251 , -0.66464579, -0.78713578, -0.03032872,  0.98316587,\n",
       "         0.28485395, -0.4415554 , -0.19407874]))"
      ]
     },
     "execution_count": 38,
     "metadata": {},
     "output_type": "execute_result"
    }
   ],
   "source": [
    "x, y\n"
   ]
  },
  {
   "cell_type": "code",
   "execution_count": 39,
   "metadata": {
    "collapsed": true
   },
   "outputs": [],
   "source": [
    "# 网格\n",
    "points = np.arange(-5, 5, 0.01)"
   ]
  },
  {
   "cell_type": "code",
   "execution_count": 40,
   "metadata": {
    "collapsed": true
   },
   "outputs": [],
   "source": [
    "xs, ys = np.meshgrid(points, points)"
   ]
  },
  {
   "cell_type": "code",
   "execution_count": 41,
   "metadata": {},
   "outputs": [
    {
     "data": {
      "text/plain": [
       "array([[-5.  , -4.99, -4.98, ...,  4.97,  4.98,  4.99],\n",
       "       [-5.  , -4.99, -4.98, ...,  4.97,  4.98,  4.99],\n",
       "       [-5.  , -4.99, -4.98, ...,  4.97,  4.98,  4.99],\n",
       "       ..., \n",
       "       [-5.  , -4.99, -4.98, ...,  4.97,  4.98,  4.99],\n",
       "       [-5.  , -4.99, -4.98, ...,  4.97,  4.98,  4.99],\n",
       "       [-5.  , -4.99, -4.98, ...,  4.97,  4.98,  4.99]])"
      ]
     },
     "execution_count": 41,
     "metadata": {},
     "output_type": "execute_result"
    }
   ],
   "source": [
    "xs"
   ]
  },
  {
   "cell_type": "code",
   "execution_count": 42,
   "metadata": {},
   "outputs": [
    {
     "data": {
      "text/plain": [
       "array([[-5.  , -5.  , -5.  , ..., -5.  , -5.  , -5.  ],\n",
       "       [-4.99, -4.99, -4.99, ..., -4.99, -4.99, -4.99],\n",
       "       [-4.98, -4.98, -4.98, ..., -4.98, -4.98, -4.98],\n",
       "       ..., \n",
       "       [ 4.97,  4.97,  4.97, ...,  4.97,  4.97,  4.97],\n",
       "       [ 4.98,  4.98,  4.98, ...,  4.98,  4.98,  4.98],\n",
       "       [ 4.99,  4.99,  4.99, ...,  4.99,  4.99,  4.99]])"
      ]
     },
     "execution_count": 42,
     "metadata": {},
     "output_type": "execute_result"
    }
   ],
   "source": [
    "ys"
   ]
  },
  {
   "cell_type": "code",
   "execution_count": 43,
   "metadata": {},
   "outputs": [
    {
     "data": {
      "text/plain": [
       "[array([[-5.  , -4.99, -4.98, ...,  4.97,  4.98,  4.99],\n",
       "        [-5.  , -4.99, -4.98, ...,  4.97,  4.98,  4.99],\n",
       "        [-5.  , -4.99, -4.98, ...,  4.97,  4.98,  4.99],\n",
       "        ..., \n",
       "        [-5.  , -4.99, -4.98, ...,  4.97,  4.98,  4.99],\n",
       "        [-5.  , -4.99, -4.98, ...,  4.97,  4.98,  4.99],\n",
       "        [-5.  , -4.99, -4.98, ...,  4.97,  4.98,  4.99]]),\n",
       " array([[-5.  , -5.  , -5.  , ..., -5.  , -5.  , -5.  ],\n",
       "        [-4.99, -4.99, -4.99, ..., -4.99, -4.99, -4.99],\n",
       "        [-4.98, -4.98, -4.98, ..., -4.98, -4.98, -4.98],\n",
       "        ..., \n",
       "        [ 4.97,  4.97,  4.97, ...,  4.97,  4.97,  4.97],\n",
       "        [ 4.98,  4.98,  4.98, ...,  4.98,  4.98,  4.98],\n",
       "        [ 4.99,  4.99,  4.99, ...,  4.99,  4.99,  4.99]])]"
      ]
     },
     "execution_count": 43,
     "metadata": {},
     "output_type": "execute_result"
    }
   ],
   "source": [
    "np.meshgrid(points, points)"
   ]
  },
  {
   "cell_type": "code",
   "execution_count": 44,
   "metadata": {
    "collapsed": true
   },
   "outputs": [],
   "source": [
    "z = np.sqrt(xs ** 2 + ys**2)"
   ]
  },
  {
   "cell_type": "code",
   "execution_count": 45,
   "metadata": {
    "collapsed": true
   },
   "outputs": [],
   "source": [
    "import matplotlib.pyplot as plt"
   ]
  },
  {
   "cell_type": "code",
   "execution_count": 46,
   "metadata": {},
   "outputs": [
    {
     "data": {
      "text/plain": [
       "<matplotlib.colorbar.Colorbar at 0x1089bbcd0>"
      ]
     },
     "execution_count": 46,
     "metadata": {},
     "output_type": "execute_result"
    }
   ],
   "source": [
    "plt.imshow(z, cmap=plt.cm.gray); plt.colorbar()"
   ]
  },
  {
   "cell_type": "code",
   "execution_count": 47,
   "metadata": {},
   "outputs": [
    {
     "data": {
      "text/plain": [
       "<matplotlib.text.Text at 0x10881ee10>"
      ]
     },
     "execution_count": 47,
     "metadata": {},
     "output_type": "execute_result"
    }
   ],
   "source": [
    "plt.title(\"Image plot of $\\sqrt{x^2 + y^2}$ for a grid of values\")"
   ]
  },
  {
   "cell_type": "code",
   "execution_count": 48,
   "metadata": {},
   "outputs": [
    {
     "data": {
      "image/png": "[encoded data removed]",
      "text/plain": [
       "<matplotlib.figure.Figure at 0x1051f8810>"
      ]
     },
     "metadata": {},
     "output_type": "display_data"
    }
   ],
   "source": [
    "plt.show()"
   ]
  },
  {
   "cell_type": "code",
   "execution_count": 49,
   "metadata": {
    "collapsed": true
   },
   "outputs": [],
   "source": [
    "# Where 语句\n",
    "xarr = np.arange(1, 1.5, 0.1)"
   ]
  },
  {
   "cell_type": "code",
   "execution_count": 56,
   "metadata": {
    "collapsed": true
   },
   "outputs": [],
   "source": [
    "yarr = np.arange(2, 2.5, 0.1)"
   ]
  },
  {
   "cell_type": "code",
   "execution_count": 57,
   "metadata": {
    "collapsed": true
   },
   "outputs": [],
   "source": [
    "cond = np.array([True, False, True, True, False])"
   ]
  },
  {
   "cell_type": "code",
   "execution_count": 58,
   "metadata": {
    "collapsed": true
   },
   "outputs": [],
   "source": [
    "result = [(x if c else y)\n",
    "          for x, y, c in zip(xarr, yarr, cond)]"
   ]
  },
  {
   "cell_type": "code",
   "execution_count": 59,
   "metadata": {},
   "outputs": [
    {
     "data": {
      "text/plain": [
       "[1.0,\n",
       " 2.1000000000000001,\n",
       " 1.2000000000000002,\n",
       " 1.3000000000000003,\n",
       " 2.4000000000000004]"
      ]
     },
     "execution_count": 59,
     "metadata": {},
     "output_type": "execute_result"
    }
   ],
   "source": [
    "result"
   ]
  },
  {
   "cell_type": "code",
   "execution_count": 60,
   "metadata": {},
   "outputs": [
    {
     "data": {
      "text/plain": [
       "array([ 1. ,  1.1,  1.2,  1.3,  1.4])"
      ]
     },
     "execution_count": 60,
     "metadata": {},
     "output_type": "execute_result"
    }
   ],
   "source": [
    "xarr"
   ]
  },
  {
   "cell_type": "code",
   "execution_count": 61,
   "metadata": {},
   "outputs": [
    {
     "data": {
      "text/plain": [
       "array([ 2. ,  2.1,  2.2,  2.3,  2.4])"
      ]
     },
     "execution_count": 61,
     "metadata": {},
     "output_type": "execute_result"
    }
   ],
   "source": [
    "yarr"
   ]
  },
  {
   "cell_type": "code",
   "execution_count": 62,
   "metadata": {},
   "outputs": [
    {
     "data": {
      "text/plain": [
       "[(1.0, 2.0, True),\n",
       " (1.1000000000000001, 2.1000000000000001, False),\n",
       " (1.2000000000000002, 2.2000000000000002, True),\n",
       " (1.3000000000000003, 2.3000000000000003, True),\n",
       " (1.4000000000000004, 2.4000000000000004, False)]"
      ]
     },
     "execution_count": 62,
     "metadata": {},
     "output_type": "execute_result"
    }
   ],
   "source": [
    "zip(xarr, yarr, cond)"
   ]
  },
  {
   "cell_type": "code",
   "execution_count": 63,
   "metadata": {},
   "outputs": [
    {
     "data": {
      "text/plain": [
       "array([ 1. ,  2.1,  1.2,  1.3,  2.4])"
      ]
     },
     "execution_count": 63,
     "metadata": {},
     "output_type": "execute_result"
    }
   ],
   "source": [
    "np.where(cond, xarr, yarr)"
   ]
  },
  {
   "cell_type": "code",
   "execution_count": 65,
   "metadata": {
    "collapsed": true
   },
   "outputs": [],
   "source": [
    "arr = np.random.randn(4,4)"
   ]
  },
  {
   "cell_type": "code",
   "execution_count": 67,
   "metadata": {},
   "outputs": [
    {
     "data": {
      "text/plain": [
       "array([[1, 1, 0, 0],\n",
       "       [1, 0, 0, 0],\n",
       "       [1, 1, 0, 1],\n",
       "       [0, 0, 0, 1]])"
      ]
     },
     "execution_count": 67,
     "metadata": {},
     "output_type": "execute_result"
    }
   ],
   "source": [
    "np.where(arr>0, 1, 0)"
   ]
  },
  {
   "cell_type": "code",
   "execution_count": 68,
   "metadata": {},
   "outputs": [
    {
     "data": {
      "text/plain": [
       "array([[ 0.08139954,  0.46659261, -1.11218075, -0.45864506],\n",
       "       [ 0.98594187, -0.5810001 , -1.15454307, -0.58042374],\n",
       "       [ 0.07535251,  0.41343722, -0.14458691,  0.86131638],\n",
       "       [-0.07885885, -1.05929144, -1.35398519,  0.86680024]])"
      ]
     },
     "execution_count": 68,
     "metadata": {},
     "output_type": "execute_result"
    }
   ],
   "source": [
    "arr"
   ]
  },
  {
   "cell_type": "code",
   "execution_count": 69,
   "metadata": {},
   "outputs": [
    {
     "data": {
      "text/plain": [
       "array([[ 1.        ,  1.        , -1.11218075, -0.45864506],\n",
       "       [ 1.        , -0.5810001 , -1.15454307, -0.58042374],\n",
       "       [ 1.        ,  1.        , -0.14458691,  1.        ],\n",
       "       [-0.07885885, -1.05929144, -1.35398519,  1.        ]])"
      ]
     },
     "execution_count": 69,
     "metadata": {},
     "output_type": "execute_result"
    }
   ],
   "source": [
    "np.where(arr>0, 1, arr)"
   ]
  },
  {
   "cell_type": "code",
   "execution_count": 70,
   "metadata": {
    "collapsed": true
   },
   "outputs": [],
   "source": [
    "# 统计指标\n",
    "arr = np.random.randn(5, 4)"
   ]
  },
  {
   "cell_type": "code",
   "execution_count": 71,
   "metadata": {},
   "outputs": [
    {
     "data": {
      "text/plain": [
       "0.15231674952789503"
      ]
     },
     "execution_count": 71,
     "metadata": {},
     "output_type": "execute_result"
    }
   ],
   "source": [
    "arr.mean()"
   ]
  },
  {
   "cell_type": "code",
   "execution_count": 72,
   "metadata": {},
   "outputs": [
    {
     "data": {
      "text/plain": [
       "0.15231674952789503"
      ]
     },
     "execution_count": 72,
     "metadata": {},
     "output_type": "execute_result"
    }
   ],
   "source": [
    "np.mean(arr)"
   ]
  },
  {
   "cell_type": "code",
   "execution_count": 73,
   "metadata": {},
   "outputs": [
    {
     "data": {
      "text/plain": [
       "3.0463349905579005"
      ]
     },
     "execution_count": 73,
     "metadata": {},
     "output_type": "execute_result"
    }
   ],
   "source": [
    "arr.sum()"
   ]
  },
  {
   "cell_type": "code",
   "execution_count": 74,
   "metadata": {},
   "outputs": [
    {
     "data": {
      "text/plain": [
       "array([ 0.20830881,  0.69841506,  0.35373101, -0.30091142, -0.19795972])"
      ]
     },
     "execution_count": 74,
     "metadata": {},
     "output_type": "execute_result"
    }
   ],
   "source": [
    "arr.mean(axis=1)"
   ]
  },
  {
   "cell_type": "code",
   "execution_count": 75,
   "metadata": {},
   "outputs": [
    {
     "data": {
      "text/plain": [
       "array([ 0.01332249, -0.43417557,  0.24820122,  0.78191886])"
      ]
     },
     "execution_count": 75,
     "metadata": {},
     "output_type": "execute_result"
    }
   ],
   "source": [
    "arr.mean(axis=0)"
   ]
  },
  {
   "cell_type": "code",
   "execution_count": 76,
   "metadata": {},
   "outputs": [
    {
     "data": {
      "text/plain": [
       "array([[ -1.10272883e+00,  -3.38745387e-01,   1.38516641e+00,\n",
       "          8.89543031e-01],\n",
       "       [  7.44451275e-01,  -1.19100024e+00,   6.85863854e-01,\n",
       "          2.55434537e+00],\n",
       "       [  1.84289872e+00,  -1.85194510e+00,   1.53379978e-01,\n",
       "          1.27059045e+00],\n",
       "       [ -1.41752237e+00,   7.54406143e-01,  -6.21877143e-01,\n",
       "          8.13476928e-02],\n",
       "       [ -4.86333769e-04,   4.56406734e-01,  -3.61527012e-01,\n",
       "         -8.86232249e-01]])"
      ]
     },
     "execution_count": 76,
     "metadata": {},
     "output_type": "execute_result"
    }
   ],
   "source": [
    "arr"
   ]
  },
  {
   "cell_type": "code",
   "execution_count": 77,
   "metadata": {},
   "outputs": [
    {
     "data": {
      "text/plain": [
       "array([ 0.01332249, -0.43417557,  0.24820122,  0.78191886])"
      ]
     },
     "execution_count": 77,
     "metadata": {},
     "output_type": "execute_result"
    }
   ],
   "source": [
    "arr.mean(0)"
   ]
  },
  {
   "cell_type": "code",
   "execution_count": 88,
   "metadata": {},
   "outputs": [
    {
     "data": {
      "text/plain": [
       "array([[-1.10272883, -0.33874539,  1.38516641,  0.88954303],\n",
       "       [-0.35827755, -1.52974563,  2.07103026,  3.4438884 ],\n",
       "       [ 1.48462117, -3.38169073,  2.22441024,  4.71447884],\n",
       "       [ 0.0670988 , -2.62728458,  1.6025331 ,  4.79582654],\n",
       "       [ 0.06661247, -2.17087785,  1.24100608,  3.90959429]])"
      ]
     },
     "execution_count": 88,
     "metadata": {},
     "output_type": "execute_result"
    }
   ],
   "source": [
    "arr.cumsum(0)"
   ]
  },
  {
   "cell_type": "code",
   "execution_count": 89,
   "metadata": {},
   "outputs": [
    {
     "data": {
      "text/plain": [
       "array([[ -1.10272883e+00,  -3.38745387e-01,   1.38516641e+00,\n",
       "          8.89543031e-01],\n",
       "       [ -8.20927881e-01,   4.03445838e-01,   9.50035570e-01,\n",
       "          2.27220012e+00],\n",
       "       [ -1.51288694e+00,  -7.47159542e-01,   1.45716435e-01,\n",
       "          2.88703577e+00],\n",
       "       [  2.14455108e+00,  -5.63661748e-01,  -9.06177200e-02,\n",
       "          2.34853699e-01],\n",
       "       [ -1.04296761e-03,  -2.57259018e-01,   3.27607536e-02,\n",
       "         -2.08134921e-01]])"
      ]
     },
     "execution_count": 89,
     "metadata": {},
     "output_type": "execute_result"
    }
   ],
   "source": [
    "arr.cumprod(0)"
   ]
  },
  {
   "cell_type": "code",
   "execution_count": 92,
   "metadata": {},
   "outputs": [
    {
     "data": {
      "text/plain": [
       "1.2552334239812926"
      ]
     },
     "execution_count": 92,
     "metadata": {},
     "output_type": "execute_result"
    }
   ],
   "source": [
    "arr.var()"
   ]
  },
  {
   "cell_type": "code",
   "execution_count": 93,
   "metadata": {
    "collapsed": true
   },
   "outputs": [],
   "source": [
    "arr = np.random.randn(100)"
   ]
  },
  {
   "cell_type": "code",
   "execution_count": 94,
   "metadata": {},
   "outputs": [
    {
     "data": {
      "text/plain": [
       "49"
      ]
     },
     "execution_count": 94,
     "metadata": {},
     "output_type": "execute_result"
    }
   ],
   "source": [
    "(arr > 0).sum()"
   ]
  },
  {
   "cell_type": "code",
   "execution_count": 96,
   "metadata": {},
   "outputs": [
    {
     "data": {
      "text/plain": [
       "0.48999999999999999"
      ]
     },
     "execution_count": 96,
     "metadata": {},
     "output_type": "execute_result"
    }
   ],
   "source": [
    "(arr > 0).mean()"
   ]
  },
  {
   "cell_type": "code",
   "execution_count": 100,
   "metadata": {
    "collapsed": true
   },
   "outputs": [],
   "source": [
    "bools = np.array([True, False, True, False])"
   ]
  },
  {
   "cell_type": "code",
   "execution_count": 101,
   "metadata": {},
   "outputs": [
    {
     "data": {
      "text/plain": [
       "True"
      ]
     },
     "execution_count": 101,
     "metadata": {},
     "output_type": "execute_result"
    }
   ],
   "source": [
    "# Bool 型计算\n",
    "bools.any()"
   ]
  },
  {
   "cell_type": "code",
   "execution_count": 102,
   "metadata": {},
   "outputs": [
    {
     "data": {
      "text/plain": [
       "False"
      ]
     },
     "execution_count": 102,
     "metadata": {},
     "output_type": "execute_result"
    }
   ],
   "source": [
    "bools.all()"
   ]
  },
  {
   "cell_type": "code",
   "execution_count": 103,
   "metadata": {
    "collapsed": true
   },
   "outputs": [],
   "source": [
    "arr.sort()"
   ]
  },
  {
   "cell_type": "code",
   "execution_count": 104,
   "metadata": {},
   "outputs": [
    {
     "data": {
      "text/plain": [
       "array([ -2.18915275e+00,  -2.15609707e+00,  -2.05418675e+00,\n",
       "        -2.03838984e+00,  -1.92563873e+00,  -1.78162495e+00,\n",
       "        -1.75167215e+00,  -1.73066799e+00,  -1.70665549e+00,\n",
       "        -1.69626690e+00,  -1.46750586e+00,  -1.45224296e+00,\n",
       "        -1.42549126e+00,  -1.34350655e+00,  -1.32356885e+00,\n",
       "        -1.25433351e+00,  -1.12126840e+00,  -1.02822951e+00,\n",
       "        -1.02545150e+00,  -1.00576771e+00,  -9.88154046e-01,\n",
       "        -9.17316762e-01,  -8.62035908e-01,  -8.47924735e-01,\n",
       "        -7.05785312e-01,  -6.70574113e-01,  -6.67113555e-01,\n",
       "        -6.64913687e-01,  -6.02362994e-01,  -5.56750436e-01,\n",
       "        -5.29610241e-01,  -4.68513145e-01,  -4.43475147e-01,\n",
       "        -4.12155593e-01,  -4.04525429e-01,  -3.79338114e-01,\n",
       "        -3.66028943e-01,  -2.88087383e-01,  -2.39875750e-01,\n",
       "        -2.39602884e-01,  -2.20900854e-01,  -1.57136628e-01,\n",
       "        -1.48339552e-01,  -1.38351869e-01,  -1.30568709e-01,\n",
       "        -1.23011892e-01,  -1.19702782e-01,  -9.04656406e-02,\n",
       "        -4.59050518e-02,  -4.35532723e-02,  -1.42525414e-02,\n",
       "         3.69301150e-04,   3.35656184e-02,   6.88573787e-02,\n",
       "         8.73850886e-02,   1.60023514e-01,   1.78633005e-01,\n",
       "         1.84005587e-01,   2.15517692e-01,   2.35366435e-01,\n",
       "         2.56215327e-01,   3.00703425e-01,   3.10976259e-01,\n",
       "         3.29896212e-01,   3.52187017e-01,   3.99695009e-01,\n",
       "         4.12963913e-01,   4.76491899e-01,   4.77878045e-01,\n",
       "         4.83349139e-01,   4.98792485e-01,   5.03144297e-01,\n",
       "         5.13869598e-01,   5.39012208e-01,   5.46109500e-01,\n",
       "         6.41183142e-01,   6.72990879e-01,   7.01574110e-01,\n",
       "         8.55158557e-01,   8.69571157e-01,   8.80220001e-01,\n",
       "         9.01329004e-01,   9.01797871e-01,   9.63992711e-01,\n",
       "         9.89407297e-01,   9.93126358e-01,   1.08470851e+00,\n",
       "         1.09204118e+00,   1.19523506e+00,   1.19756449e+00,\n",
       "         1.31705472e+00,   1.42842481e+00,   1.43138450e+00,\n",
       "         1.44008267e+00,   1.44053320e+00,   1.49344177e+00,\n",
       "         1.50102401e+00,   1.64701836e+00,   1.72293676e+00,\n",
       "         2.08487462e+00])"
      ]
     },
     "execution_count": 104,
     "metadata": {},
     "output_type": "execute_result"
    }
   ],
   "source": [
    "arr"
   ]
  },
  {
   "cell_type": "code",
   "execution_count": 105,
   "metadata": {
    "collapsed": true
   },
   "outputs": [],
   "source": [
    "# 排序\n",
    "arr = np.random.randn(6,4)"
   ]
  },
  {
   "cell_type": "code",
   "execution_count": 106,
   "metadata": {
    "collapsed": true
   },
   "outputs": [],
   "source": [
    "arr.sort(0)"
   ]
  },
  {
   "cell_type": "code",
   "execution_count": 107,
   "metadata": {},
   "outputs": [
    {
     "data": {
      "text/plain": [
       "array([[-0.12893873, -1.92171664, -1.13757802, -1.95810663],\n",
       "       [ 0.20451233, -1.58281251, -0.51548326, -1.20950958],\n",
       "       [ 0.34547375, -0.77776765,  0.01666501, -0.99121071],\n",
       "       [ 1.15673018,  0.08355755,  0.04113069, -0.64950885],\n",
       "       [ 1.36125993,  0.21838645,  1.1158195 ,  0.74620471],\n",
       "       [ 1.65773626,  0.53541684,  2.22429046,  0.98793622]])"
      ]
     },
     "execution_count": 107,
     "metadata": {},
     "output_type": "execute_result"
    }
   ],
   "source": [
    "arr"
   ]
  },
  {
   "cell_type": "code",
   "execution_count": 108,
   "metadata": {
    "collapsed": true
   },
   "outputs": [],
   "source": [
    "arr.sort(1)"
   ]
  },
  {
   "cell_type": "code",
   "execution_count": 109,
   "metadata": {},
   "outputs": [
    {
     "data": {
      "text/plain": [
       "array([[-1.95810663, -1.92171664, -1.13757802, -0.12893873],\n",
       "       [-1.58281251, -1.20950958, -0.51548326,  0.20451233],\n",
       "       [-0.99121071, -0.77776765,  0.01666501,  0.34547375],\n",
       "       [-0.64950885,  0.04113069,  0.08355755,  1.15673018],\n",
       "       [ 0.21838645,  0.74620471,  1.1158195 ,  1.36125993],\n",
       "       [ 0.53541684,  0.98793622,  1.65773626,  2.22429046]])"
      ]
     },
     "execution_count": 109,
     "metadata": {},
     "output_type": "execute_result"
    }
   ],
   "source": [
    "arr"
   ]
  },
  {
   "cell_type": "code",
   "execution_count": 110,
   "metadata": {},
   "outputs": [
    {
     "data": {
      "text/plain": [
       "array(['Bob', 'Joe', 'Will', 'Bob', 'Will', 'Joe', 'Joe'], \n",
       "      dtype='|S4')"
      ]
     },
     "execution_count": 110,
     "metadata": {},
     "output_type": "execute_result"
    }
   ],
   "source": [
    "names"
   ]
  },
  {
   "cell_type": "code",
   "execution_count": 115,
   "metadata": {},
   "outputs": [
    {
     "name": "stdout",
     "output_type": "stream",
     "text": [
      "The slowest run took 11.66 times longer than the fastest. This could mean that an intermediate result is being cached.\n",
      "100000 loops, best of 3: 5.12 µs per loop\n"
     ]
    }
   ],
   "source": [
    "%timeit np.unique(names)"
   ]
  },
  {
   "cell_type": "code",
   "execution_count": 116,
   "metadata": {},
   "outputs": [
    {
     "name": "stdout",
     "output_type": "stream",
     "text": [
      "The slowest run took 7.38 times longer than the fastest. This could mean that an intermediate result is being cached.\n",
      "100000 loops, best of 3: 2.03 µs per loop\n"
     ]
    }
   ],
   "source": [
    "%timeit sorted(set(names))"
   ]
  },
  {
   "cell_type": "code",
   "execution_count": 117,
   "metadata": {
    "collapsed": true
   },
   "outputs": [],
   "source": [
    "# 文件读写\n",
    "arr = np.arange(10)\n",
    "np.save('some_array', arr)"
   ]
  },
  {
   "cell_type": "code",
   "execution_count": 119,
   "metadata": {
    "collapsed": true
   },
   "outputs": [],
   "source": [
    "arr = np.load('some_array.npy')"
   ]
  },
  {
   "cell_type": "code",
   "execution_count": 120,
   "metadata": {},
   "outputs": [
    {
     "data": {
      "text/plain": [
       "array([0, 1, 2, 3, 4, 5, 6, 7, 8, 9])"
      ]
     },
     "execution_count": 120,
     "metadata": {},
     "output_type": "execute_result"
    }
   ],
   "source": [
    "arr"
   ]
  },
  {
   "cell_type": "code",
   "execution_count": 121,
   "metadata": {
    "collapsed": true
   },
   "outputs": [],
   "source": [
    "np.savez('z_array', a=arr, b=arr)"
   ]
  },
  {
   "cell_type": "code",
   "execution_count": 126,
   "metadata": {
    "collapsed": true
   },
   "outputs": [],
   "source": [
    "arch = np.load('z_array.npz')"
   ]
  },
  {
   "cell_type": "code",
   "execution_count": 128,
   "metadata": {},
   "outputs": [
    {
     "data": {
      "text/plain": [
       "array([0, 1, 2, 3, 4, 5, 6, 7, 8, 9])"
      ]
     },
     "execution_count": 128,
     "metadata": {},
     "output_type": "execute_result"
    }
   ],
   "source": [
    "arch[a]"
   ]
  },
  {
   "cell_type": "code",
   "execution_count": 130,
   "metadata": {
    "collapsed": true
   },
   "outputs": [],
   "source": [
    "# 线性代数\n",
    "x = np.array([[1, 2, 3], [4, 5, 6]])\n",
    "y = np.array([[1, 2], [3, 4], [5, 6]])"
   ]
  },
  {
   "cell_type": "code",
   "execution_count": 131,
   "metadata": {},
   "outputs": [
    {
     "data": {
      "text/plain": [
       "array([[22, 28],\n",
       "       [49, 64]])"
      ]
     },
     "execution_count": 131,
     "metadata": {},
     "output_type": "execute_result"
    }
   ],
   "source": [
    "x.dot(y)"
   ]
  },
  {
   "cell_type": "code",
   "execution_count": 132,
   "metadata": {},
   "outputs": [
    {
     "data": {
      "text/plain": [
       "array([[22, 28],\n",
       "       [49, 64]])"
      ]
     },
     "execution_count": 132,
     "metadata": {},
     "output_type": "execute_result"
    }
   ],
   "source": [
    "np.dot(x, y)"
   ]
  },
  {
   "cell_type": "code",
   "execution_count": 133,
   "metadata": {},
   "outputs": [
    {
     "data": {
      "text/plain": [
       "array([  6.,  15.])"
      ]
     },
     "execution_count": 133,
     "metadata": {},
     "output_type": "execute_result"
    }
   ],
   "source": [
    "np.dot(x, np.ones(3))"
   ]
  },
  {
   "cell_type": "code",
   "execution_count": 134,
   "metadata": {},
   "outputs": [
    {
     "data": {
      "text/plain": [
       "array([ 1.,  1.,  1.])"
      ]
     },
     "execution_count": 134,
     "metadata": {},
     "output_type": "execute_result"
    }
   ],
   "source": [
    "np.ones(3)"
   ]
  },
  {
   "cell_type": "code",
   "execution_count": 136,
   "metadata": {
    "collapsed": true
   },
   "outputs": [],
   "source": [
    "from numpy.linalg import inv, qr"
   ]
  },
  {
   "cell_type": "code",
   "execution_count": 138,
   "metadata": {
    "collapsed": true
   },
   "outputs": [],
   "source": [
    "X = np.random.randn(5, 5)"
   ]
  },
  {
   "cell_type": "code",
   "execution_count": 139,
   "metadata": {
    "collapsed": true
   },
   "outputs": [],
   "source": [
    "mat = X.T.dot(X)"
   ]
  },
  {
   "cell_type": "code",
   "execution_count": 147,
   "metadata": {},
   "outputs": [
    {
     "data": {
      "text/plain": [
       "array([[ 1.31927084,  0.78218681,  0.29612519, -0.74862026,  2.18803226],\n",
       "       [-1.07020674, -0.65418594, -0.28562806, -1.61409296,  0.73932914],\n",
       "       [-0.37498242,  1.00300712, -0.90064866,  0.85328713, -0.69537644],\n",
       "       [ 1.01741114,  0.3757579 , -1.34237238,  1.17309059, -1.01960206],\n",
       "       [-1.81067056, -0.58926315, -0.0912043 , -0.66495748, -0.10741641]])"
      ]
     },
     "execution_count": 147,
     "metadata": {},
     "output_type": "execute_result"
    }
   ],
   "source": [
    "X"
   ]
  },
  {
   "cell_type": "code",
   "execution_count": 148,
   "metadata": {},
   "outputs": [
    {
     "data": {
      "text/plain": [
       "array([[-0.24394084,  0.45993432, -0.08668641, -0.02568566, -0.99834608],\n",
       "       [-0.40586425,  0.78495748,  1.26928617, -1.00049804, -1.58471099],\n",
       "       [-0.3548794 , -0.09221857,  0.11941688, -0.83626413, -0.69868745],\n",
       "       [ 0.89437015, -1.7504906 , -0.79379392,  0.9406975 ,  2.37925015],\n",
       "       [ 1.10323696, -1.14436422, -0.68923509,  0.80818132,  2.07706387]])"
      ]
     },
     "execution_count": 148,
     "metadata": {},
     "output_type": "execute_result"
    }
   ],
   "source": [
    "inv(X)"
   ]
  },
  {
   "cell_type": "code",
   "execution_count": 152,
   "metadata": {},
   "outputs": [
    {
     "data": {
      "text/plain": [
       "array([[  1.00000000e+00,   3.73203087e-16,   9.61802100e-17,\n",
       "         -1.13303715e-16,  -8.88178420e-16],\n",
       "       [ -6.91424065e-17,   1.00000000e+00,  -1.75240937e-16,\n",
       "         -2.30642092e-16,  -1.11022302e-15],\n",
       "       [  4.24544191e-18,   1.26005673e-16,   1.00000000e+00,\n",
       "         -2.31798990e-16,  -2.22044605e-16],\n",
       "       [  1.71669980e-16,  -3.17912738e-16,  -4.35217291e-17,\n",
       "          1.00000000e+00,   4.44089210e-16],\n",
       "       [  1.38777878e-17,  -1.38777878e-17,  -4.16333634e-17,\n",
       "         -2.77555756e-17,   1.00000000e+00]])"
      ]
     },
     "execution_count": 152,
     "metadata": {},
     "output_type": "execute_result"
    }
   ],
   "source": [
    "X.dot(inv(X))"
   ]
  },
  {
   "cell_type": "code",
   "execution_count": 153,
   "metadata": {
    "collapsed": true
   },
   "outputs": [],
   "source": [
    "# 随机数\n",
    "samples = np.random.normal(size=(4, 4))"
   ]
  },
  {
   "cell_type": "code",
   "execution_count": 154,
   "metadata": {},
   "outputs": [
    {
     "data": {
      "text/plain": [
       "array([[ 1.10133514,  0.51696718,  0.18674366,  0.41577099],\n",
       "       [-1.6189193 ,  0.1904243 ,  1.06824879, -0.39411134],\n",
       "       [ 3.072309  , -1.22092882, -0.72782084, -0.84236277],\n",
       "       [-1.68182283, -0.67121731, -0.23533553,  1.32256218]])"
      ]
     },
     "execution_count": 154,
     "metadata": {},
     "output_type": "execute_result"
    }
   ],
   "source": [
    "samples"
   ]
  },
  {
   "cell_type": "code",
   "execution_count": 155,
   "metadata": {
    "collapsed": true
   },
   "outputs": [],
   "source": [
    "from random import normalvariate"
   ]
  },
  {
   "cell_type": "code",
   "execution_count": 156,
   "metadata": {
    "collapsed": true
   },
   "outputs": [],
   "source": [
    "N = 1000000"
   ]
  },
  {
   "cell_type": "code",
   "execution_count": 157,
   "metadata": {},
   "outputs": [
    {
     "name": "stdout",
     "output_type": "stream",
     "text": [
      "1 loop, best of 3: 872 ms per loop\n"
     ]
    }
   ],
   "source": [
    "%timeit samples = [normalvariate(0, 1) for _ in xrange(N)]"
   ]
  },
  {
   "cell_type": "code",
   "execution_count": 158,
   "metadata": {},
   "outputs": [
    {
     "name": "stdout",
     "output_type": "stream",
     "text": [
      "10 loops, best of 3: 34.8 ms per loop\n"
     ]
    }
   ],
   "source": [
    "%timeit samples = np.random.normal(size=N)"
   ]
  },
  {
   "cell_type": "code",
   "execution_count": 179,
   "metadata": {
    "collapsed": true
   },
   "outputs": [],
   "source": [
    "# 随机漫步\n",
    "import random\n",
    "position = 0\n",
    "walk = [position]\n",
    "steps = 1000\n",
    "for i in xrange(steps):\n",
    "    step = 1 if random.randint(0, 1) else -1\n",
    "    position += step\n",
    "    walk.append(position)"
   ]
  },
  {
   "cell_type": "code",
   "execution_count": 180,
   "metadata": {},
   "outputs": [
    {
     "data": {
      "text/plain": [
       "-38"
      ]
     },
     "execution_count": 180,
     "metadata": {},
     "output_type": "execute_result"
    }
   ],
   "source": [
    "walk[-1]"
   ]
  },
  {
   "cell_type": "code",
   "execution_count": 235,
   "metadata": {},
   "outputs": [
    {
     "data": {
      "text/plain": [
       "array([0, 0, 0, 0, 0, 1, 0, 0, 1, 1, 1, 1, 0, 0, 0, 1, 1, 0, 1, 0, 0, 0, 1,\n",
       "       0, 0, 1, 1, 1, 0, 0, 0, 0, 0, 0, 1, 0, 1, 0, 0, 1, 0, 0, 0, 0, 1, 1,\n",
       "       0, 0, 0, 0, 0, 0, 0, 1, 1, 0, 0, 1, 0, 0, 1, 0, 0, 1, 1, 0, 1, 1, 0,\n",
       "       0, 0, 1, 0, 1, 0, 0, 1, 1, 0, 0, 1, 1, 1, 1, 1, 0, 0, 1, 0, 0, 1, 1,\n",
       "       1, 0, 1, 0, 0, 1, 0, 0, 0, 1, 1, 1, 1, 0, 1, 1, 0, 0, 1, 0, 0, 1, 0,\n",
       "       0, 1, 0, 1, 0, 1, 1, 0, 0, 0, 0, 0, 0, 1, 0, 0, 0, 0, 1, 1, 1, 1, 1,\n",
       "       0, 1, 1, 0, 0, 0, 0, 1, 1, 0, 1, 1, 1, 1, 0, 0, 0, 1, 1, 0, 0, 0, 1,\n",
       "       0, 1, 1, 1, 1, 1, 0, 1, 1, 1, 1, 1, 1, 1, 1, 1, 0, 0, 0, 0, 1, 0, 1,\n",
       "       0, 0, 0, 0, 1, 1, 1, 1, 1, 0, 0, 0, 1, 1, 1, 1, 1, 0, 1, 1, 1, 1, 0,\n",
       "       1, 1, 0, 1, 1, 1, 0, 0, 1, 0, 1, 1, 1, 1, 0, 1, 1, 0, 1, 0, 1, 1, 0,\n",
       "       1, 0, 0, 0, 1, 0, 0, 0, 1, 1, 0, 1, 1, 0, 1, 0, 1, 0, 1, 0, 0, 0, 1,\n",
       "       1, 1, 0, 1, 0, 1, 0, 0, 0, 0, 0, 1, 0, 0, 1, 0, 1, 1, 0, 1, 0, 0, 0,\n",
       "       1, 1, 0, 0, 0, 1, 0, 1, 1, 0, 1, 1, 0, 1, 0, 1, 0, 1, 1, 0, 1, 0, 0,\n",
       "       0, 0, 1, 1, 1, 0, 0, 1, 1, 1, 0, 0, 1, 1, 1, 0, 0, 1, 0, 0, 1, 1, 1,\n",
       "       0, 0, 1, 0, 0, 0, 0, 1, 1, 0, 1, 0, 0, 1, 1, 1, 1, 1, 1, 1, 1, 0, 1,\n",
       "       0, 1, 1, 1, 0, 0, 0, 0, 1, 0, 0, 1, 1, 1, 0, 0, 1, 1, 1, 1, 1, 1, 0,\n",
       "       0, 1, 0, 1, 0, 0, 0, 1, 0, 1, 0, 0, 1, 1, 0, 1, 1, 0, 0, 0, 1, 1, 1,\n",
       "       1, 1, 0, 0, 1, 0, 0, 0, 1, 0, 0, 0, 0, 0, 1, 1, 0, 1, 1, 1, 0, 1, 1,\n",
       "       0, 1, 1, 1, 1, 0, 0, 0, 0, 0, 0, 0, 1, 0, 0, 0, 1, 1, 1, 1, 0, 1, 1,\n",
       "       0, 0, 0, 0, 0, 0, 1, 0, 0, 0, 1, 1, 0, 1, 0, 0, 0, 0, 0, 0, 1, 1, 0,\n",
       "       1, 1, 0, 0, 1, 1, 1, 0, 0, 0, 1, 1, 1, 0, 1, 1, 1, 0, 0, 0, 1, 0, 1,\n",
       "       1, 0, 0, 0, 0, 0, 1, 1, 0, 1, 1, 0, 0, 0, 0, 0, 1, 1, 1, 1, 0, 1, 0,\n",
       "       1, 0, 1, 1, 0, 1, 0, 1, 1, 0, 1, 1, 0, 0, 1, 1, 1, 1, 0, 1, 0, 0, 0,\n",
       "       0, 1, 0, 0, 1, 0, 0, 0, 0, 1, 1, 0, 1, 0, 1, 1, 1, 0, 0, 1, 0, 0, 0,\n",
       "       1, 0, 0, 0, 1, 0, 1, 0, 0, 1, 1, 1, 1, 1, 1, 0, 1, 0, 0, 1, 0, 1, 0,\n",
       "       1, 1, 0, 0, 0, 1, 0, 1, 0, 0, 0, 1, 1, 0, 1, 1, 1, 0, 1, 1, 0, 0, 0,\n",
       "       0, 1, 0, 1, 0, 1, 0, 1, 1, 1, 1, 1, 0, 0, 1, 1, 0, 0, 0, 0, 1, 1, 1,\n",
       "       0, 0, 1, 1, 1, 1, 1, 0, 1, 0, 0, 1, 0, 1, 1, 1, 0, 1, 0, 0, 1, 1, 0,\n",
       "       0, 0, 0, 1, 1, 1, 1, 1, 1, 1, 1, 1, 0, 0, 0, 0, 1, 0, 1, 1, 1, 0, 1,\n",
       "       0, 0, 1, 1, 0, 1, 1, 1, 0, 0, 0, 0, 1, 0, 0, 1, 0, 1, 1, 1, 0, 0, 0,\n",
       "       0, 1, 0, 0, 0, 0, 1, 0, 0, 0, 1, 1, 0, 1, 0, 0, 1, 0, 1, 0, 1, 1, 1,\n",
       "       0, 1, 1, 1, 0, 0, 1, 1, 0, 1, 1, 1, 0, 1, 0, 0, 0, 0, 1, 0, 0, 1, 1,\n",
       "       0, 1, 0, 1, 1, 0, 0, 0, 0, 1, 0, 1, 0, 0, 0, 1, 1, 1, 1, 0, 0, 1, 1,\n",
       "       0, 1, 1, 1, 1, 1, 0, 0, 1, 1, 0, 1, 0, 0, 0, 0, 1, 1, 1, 1, 0, 0, 0,\n",
       "       0, 0, 0, 1, 1, 0, 0, 0, 0, 1, 0, 0, 0, 0, 0, 0, 1, 1, 0, 0, 0, 0, 1,\n",
       "       1, 0, 0, 1, 0, 1, 1, 0, 1, 0, 1, 1, 1, 0, 0, 0, 0, 1, 1, 0, 0, 1, 1,\n",
       "       1, 1, 1, 1, 1, 1, 0, 0, 1, 0, 1, 1, 0, 0, 0, 1, 1, 0, 1, 1, 1, 1, 0,\n",
       "       1, 1, 1, 1, 1, 0, 0, 0, 0, 0, 1, 1, 1, 1, 0, 0, 1, 0, 0, 1, 1, 1, 1,\n",
       "       1, 0, 0, 0, 1, 0, 1, 0, 0, 1, 1, 0, 1, 0, 1, 0, 1, 0, 1, 0, 0, 0, 1,\n",
       "       0, 1, 1, 1, 1, 1, 1, 1, 0, 0, 0, 1, 0, 1, 1, 1, 0, 1, 1, 0, 1, 0, 0,\n",
       "       0, 0, 1, 0, 1, 0, 1, 0, 0, 0, 0, 0, 1, 1, 1, 1, 0, 1, 1, 1, 1, 1, 0,\n",
       "       0, 0, 1, 0, 1, 1, 0, 1, 0, 1, 1, 0, 0, 1, 0, 1, 1, 1, 1, 0, 0, 1, 1,\n",
       "       1, 1, 1, 0, 1, 1, 0, 1, 1, 0, 1, 0, 1, 0, 0, 1, 1, 1, 0, 0, 1, 0, 0,\n",
       "       0, 0, 0, 0, 1, 1, 0, 0, 1, 1, 0])"
      ]
     },
     "execution_count": 235,
     "metadata": {},
     "output_type": "execute_result"
    }
   ],
   "source": [
    "nsteps = 1000\n",
    "draws = np.random.randint(0, 2, size=nsteps)\n",
    "draws"
   ]
  },
  {
   "cell_type": "code",
   "execution_count": 236,
   "metadata": {},
   "outputs": [
    {
     "data": {
      "text/plain": [
       "array([-1, -1, -1, -1, -1,  1, -1, -1,  1,  1,  1,  1, -1, -1, -1,  1,  1,\n",
       "       -1,  1, -1, -1, -1,  1, -1, -1,  1,  1,  1, -1, -1, -1, -1, -1, -1,\n",
       "        1, -1,  1, -1, -1,  1, -1, -1, -1, -1,  1,  1, -1, -1, -1, -1, -1,\n",
       "       -1, -1,  1,  1, -1, -1,  1, -1, -1,  1, -1, -1,  1,  1, -1,  1,  1,\n",
       "       -1, -1, -1,  1, -1,  1, -1, -1,  1,  1, -1, -1,  1,  1,  1,  1,  1,\n",
       "       -1, -1,  1, -1, -1,  1,  1,  1, -1,  1, -1, -1,  1, -1, -1, -1,  1,\n",
       "        1,  1,  1, -1,  1,  1, -1, -1,  1, -1, -1,  1, -1, -1,  1, -1,  1,\n",
       "       -1,  1,  1, -1, -1, -1, -1, -1, -1,  1, -1, -1, -1, -1,  1,  1,  1,\n",
       "        1,  1, -1,  1,  1, -1, -1, -1, -1,  1,  1, -1,  1,  1,  1,  1, -1,\n",
       "       -1, -1,  1,  1, -1, -1, -1,  1, -1,  1,  1,  1,  1,  1, -1,  1,  1,\n",
       "        1,  1,  1,  1,  1,  1,  1, -1, -1, -1, -1,  1, -1,  1, -1, -1, -1,\n",
       "       -1,  1,  1,  1,  1,  1, -1, -1, -1,  1,  1,  1,  1,  1, -1,  1,  1,\n",
       "        1,  1, -1,  1,  1, -1,  1,  1,  1, -1, -1,  1, -1,  1,  1,  1,  1,\n",
       "       -1,  1,  1, -1,  1, -1,  1,  1, -1,  1, -1, -1, -1,  1, -1, -1, -1,\n",
       "        1,  1, -1,  1,  1, -1,  1, -1,  1, -1,  1, -1, -1, -1,  1,  1,  1,\n",
       "       -1,  1, -1,  1, -1, -1, -1, -1, -1,  1, -1, -1,  1, -1,  1,  1, -1,\n",
       "        1, -1, -1, -1,  1,  1, -1, -1, -1,  1, -1,  1,  1, -1,  1,  1, -1,\n",
       "        1, -1,  1, -1,  1,  1, -1,  1, -1, -1, -1, -1,  1,  1,  1, -1, -1,\n",
       "        1,  1,  1, -1, -1,  1,  1,  1, -1, -1,  1, -1, -1,  1,  1,  1, -1,\n",
       "       -1,  1, -1, -1, -1, -1,  1,  1, -1,  1, -1, -1,  1,  1,  1,  1,  1,\n",
       "        1,  1,  1, -1,  1, -1,  1,  1,  1, -1, -1, -1, -1,  1, -1, -1,  1,\n",
       "        1,  1, -1, -1,  1,  1,  1,  1,  1,  1, -1, -1,  1, -1,  1, -1, -1,\n",
       "       -1,  1, -1,  1, -1, -1,  1,  1, -1,  1,  1, -1, -1, -1,  1,  1,  1,\n",
       "        1,  1, -1, -1,  1, -1, -1, -1,  1, -1, -1, -1, -1, -1,  1,  1, -1,\n",
       "        1,  1,  1, -1,  1,  1, -1,  1,  1,  1,  1, -1, -1, -1, -1, -1, -1,\n",
       "       -1,  1, -1, -1, -1,  1,  1,  1,  1, -1,  1,  1, -1, -1, -1, -1, -1,\n",
       "       -1,  1, -1, -1, -1,  1,  1, -1,  1, -1, -1, -1, -1, -1, -1,  1,  1,\n",
       "       -1,  1,  1, -1, -1,  1,  1,  1, -1, -1, -1,  1,  1,  1, -1,  1,  1,\n",
       "        1, -1, -1, -1,  1, -1,  1,  1, -1, -1, -1, -1, -1,  1,  1, -1,  1,\n",
       "        1, -1, -1, -1, -1, -1,  1,  1,  1,  1, -1,  1, -1,  1, -1,  1,  1,\n",
       "       -1,  1, -1,  1,  1, -1,  1,  1, -1, -1,  1,  1,  1,  1, -1,  1, -1,\n",
       "       -1, -1, -1,  1, -1, -1,  1, -1, -1, -1, -1,  1,  1, -1,  1, -1,  1,\n",
       "        1,  1, -1, -1,  1, -1, -1, -1,  1, -1, -1, -1,  1, -1,  1, -1, -1,\n",
       "        1,  1,  1,  1,  1,  1, -1,  1, -1, -1,  1, -1,  1, -1,  1,  1, -1,\n",
       "       -1, -1,  1, -1,  1, -1, -1, -1,  1,  1, -1,  1,  1,  1, -1,  1,  1,\n",
       "       -1, -1, -1, -1,  1, -1,  1, -1,  1, -1,  1,  1,  1,  1,  1, -1, -1,\n",
       "        1,  1, -1, -1, -1, -1,  1,  1,  1, -1, -1,  1,  1,  1,  1,  1, -1,\n",
       "        1, -1, -1,  1, -1,  1,  1,  1, -1,  1, -1, -1,  1,  1, -1, -1, -1,\n",
       "       -1,  1,  1,  1,  1,  1,  1,  1,  1,  1, -1, -1, -1, -1,  1, -1,  1,\n",
       "        1,  1, -1,  1, -1, -1,  1,  1, -1,  1,  1,  1, -1, -1, -1, -1,  1,\n",
       "       -1, -1,  1, -1,  1,  1,  1, -1, -1, -1, -1,  1, -1, -1, -1, -1,  1,\n",
       "       -1, -1, -1,  1,  1, -1,  1, -1, -1,  1, -1,  1, -1,  1,  1,  1, -1,\n",
       "        1,  1,  1, -1, -1,  1,  1, -1,  1,  1,  1, -1,  1, -1, -1, -1, -1,\n",
       "        1, -1, -1,  1,  1, -1,  1, -1,  1,  1, -1, -1, -1, -1,  1, -1,  1,\n",
       "       -1, -1, -1,  1,  1,  1,  1, -1, -1,  1,  1, -1,  1,  1,  1,  1,  1,\n",
       "       -1, -1,  1,  1, -1,  1, -1, -1, -1, -1,  1,  1,  1,  1, -1, -1, -1,\n",
       "       -1, -1, -1,  1,  1, -1, -1, -1, -1,  1, -1, -1, -1, -1, -1, -1,  1,\n",
       "        1, -1, -1, -1, -1,  1,  1, -1, -1,  1, -1,  1,  1, -1,  1, -1,  1,\n",
       "        1,  1, -1, -1, -1, -1,  1,  1, -1, -1,  1,  1,  1,  1,  1,  1,  1,\n",
       "        1, -1, -1,  1, -1,  1,  1, -1, -1, -1,  1,  1, -1,  1,  1,  1,  1,\n",
       "       -1,  1,  1,  1,  1,  1, -1, -1, -1, -1, -1,  1,  1,  1,  1, -1, -1,\n",
       "        1, -1, -1,  1,  1,  1,  1,  1, -1, -1, -1,  1, -1,  1, -1, -1,  1,\n",
       "        1, -1,  1, -1,  1, -1,  1, -1,  1, -1, -1, -1,  1, -1,  1,  1,  1,\n",
       "        1,  1,  1,  1, -1, -1, -1,  1, -1,  1,  1,  1, -1,  1,  1, -1,  1,\n",
       "       -1, -1, -1, -1,  1, -1,  1, -1,  1, -1, -1, -1, -1, -1,  1,  1,  1,\n",
       "        1, -1,  1,  1,  1,  1,  1, -1, -1, -1,  1, -1,  1,  1, -1,  1, -1,\n",
       "        1,  1, -1, -1,  1, -1,  1,  1,  1,  1, -1, -1,  1,  1,  1,  1,  1,\n",
       "       -1,  1,  1, -1,  1,  1, -1,  1, -1,  1, -1, -1,  1,  1,  1, -1, -1,\n",
       "        1, -1, -1, -1, -1, -1, -1,  1,  1, -1, -1,  1,  1, -1])"
      ]
     },
     "execution_count": 236,
     "metadata": {},
     "output_type": "execute_result"
    }
   ],
   "source": [
    "steps = np.where(draws > 0, 1, -1)\n",
    "steps"
   ]
  },
  {
   "cell_type": "code",
   "execution_count": 237,
   "metadata": {},
   "outputs": [
    {
     "data": {
      "text/plain": [
       "array([ -1,  -2,  -3,  -4,  -5,  -4,  -5,  -6,  -5,  -4,  -3,  -2,  -3,\n",
       "        -4,  -5,  -4,  -3,  -4,  -3,  -4,  -5,  -6,  -5,  -6,  -7,  -6,\n",
       "        -5,  -4,  -5,  -6,  -7,  -8,  -9, -10,  -9, -10,  -9, -10, -11,\n",
       "       -10, -11, -12, -13, -14, -13, -12, -13, -14, -15, -16, -17, -18,\n",
       "       -19, -18, -17, -18, -19, -18, -19, -20, -19, -20, -21, -20, -19,\n",
       "       -20, -19, -18, -19, -20, -21, -20, -21, -20, -21, -22, -21, -20,\n",
       "       -21, -22, -21, -20, -19, -18, -17, -18, -19, -18, -19, -20, -19,\n",
       "       -18, -17, -18, -17, -18, -19, -18, -19, -20, -21, -20, -19, -18,\n",
       "       -17, -18, -17, -16, -17, -18, -17, -18, -19, -18, -19, -20, -19,\n",
       "       -20, -19, -20, -19, -18, -19, -20, -21, -22, -23, -24, -23, -24,\n",
       "       -25, -26, -27, -26, -25, -24, -23, -22, -23, -22, -21, -22, -23,\n",
       "       -24, -25, -24, -23, -24, -23, -22, -21, -20, -21, -22, -23, -22,\n",
       "       -21, -22, -23, -24, -23, -24, -23, -22, -21, -20, -19, -20, -19,\n",
       "       -18, -17, -16, -15, -14, -13, -12, -11, -12, -13, -14, -15, -14,\n",
       "       -15, -14, -15, -16, -17, -18, -17, -16, -15, -14, -13, -14, -15,\n",
       "       -16, -15, -14, -13, -12, -11, -12, -11, -10,  -9,  -8,  -9,  -8,\n",
       "        -7,  -8,  -7,  -6,  -5,  -6,  -7,  -6,  -7,  -6,  -5,  -4,  -3,\n",
       "        -4,  -3,  -2,  -3,  -2,  -3,  -2,  -1,  -2,  -1,  -2,  -3,  -4,\n",
       "        -3,  -4,  -5,  -6,  -5,  -4,  -5,  -4,  -3,  -4,  -3,  -4,  -3,\n",
       "        -4,  -3,  -4,  -5,  -6,  -5,  -4,  -3,  -4,  -3,  -4,  -3,  -4,\n",
       "        -5,  -6,  -7,  -8,  -7,  -8,  -9,  -8,  -9,  -8,  -7,  -8,  -7,\n",
       "        -8,  -9, -10,  -9,  -8,  -9, -10, -11, -10, -11, -10,  -9, -10,\n",
       "        -9,  -8,  -9,  -8,  -9,  -8,  -9,  -8,  -7,  -8,  -7,  -8,  -9,\n",
       "       -10, -11, -10,  -9,  -8,  -9, -10,  -9,  -8,  -7,  -8,  -9,  -8,\n",
       "        -7,  -6,  -7,  -8,  -7,  -8,  -9,  -8,  -7,  -6,  -7,  -8,  -7,\n",
       "        -8,  -9, -10, -11, -10,  -9, -10,  -9, -10, -11, -10,  -9,  -8,\n",
       "        -7,  -6,  -5,  -4,  -3,  -4,  -3,  -4,  -3,  -2,  -1,  -2,  -3,\n",
       "        -4,  -5,  -4,  -5,  -6,  -5,  -4,  -3,  -4,  -5,  -4,  -3,  -2,\n",
       "        -1,   0,   1,   0,  -1,   0,  -1,   0,  -1,  -2,  -3,  -2,  -3,\n",
       "        -2,  -3,  -4,  -3,  -2,  -3,  -2,  -1,  -2,  -3,  -4,  -3,  -2,\n",
       "        -1,   0,   1,   0,  -1,   0,  -1,  -2,  -3,  -2,  -3,  -4,  -5,\n",
       "        -6,  -7,  -6,  -5,  -6,  -5,  -4,  -3,  -4,  -3,  -2,  -3,  -2,\n",
       "        -1,   0,   1,   0,  -1,  -2,  -3,  -4,  -5,  -6,  -5,  -6,  -7,\n",
       "        -8,  -7,  -6,  -5,  -4,  -5,  -4,  -3,  -4,  -5,  -6,  -7,  -8,\n",
       "        -9,  -8,  -9, -10, -11, -10,  -9, -10,  -9, -10, -11, -12, -13,\n",
       "       -14, -15, -14, -13, -14, -13, -12, -13, -14, -13, -12, -11, -12,\n",
       "       -13, -14, -13, -12, -11, -12, -11, -10,  -9, -10, -11, -12, -11,\n",
       "       -12, -11, -10, -11, -12, -13, -14, -15, -14, -13, -14, -13, -12,\n",
       "       -13, -14, -15, -16, -17, -16, -15, -14, -13, -14, -13, -14, -13,\n",
       "       -14, -13, -12, -13, -12, -13, -12, -11, -12, -11, -10, -11, -12,\n",
       "       -11, -10,  -9,  -8,  -9,  -8,  -9, -10, -11, -12, -11, -12, -13,\n",
       "       -12, -13, -14, -15, -16, -15, -14, -15, -14, -15, -14, -13, -12,\n",
       "       -13, -14, -13, -14, -15, -16, -15, -16, -17, -18, -17, -18, -17,\n",
       "       -18, -19, -18, -17, -16, -15, -14, -13, -14, -13, -14, -15, -14,\n",
       "       -15, -14, -15, -14, -13, -14, -15, -16, -15, -16, -15, -16, -17,\n",
       "       -18, -17, -16, -17, -16, -15, -14, -15, -14, -13, -14, -15, -16,\n",
       "       -17, -16, -17, -16, -17, -16, -17, -16, -15, -14, -13, -12, -13,\n",
       "       -14, -13, -12, -13, -14, -15, -16, -15, -14, -13, -14, -15, -14,\n",
       "       -13, -12, -11, -10, -11, -10, -11, -12, -11, -12, -11, -10,  -9,\n",
       "       -10,  -9, -10, -11, -10,  -9, -10, -11, -12, -13, -12, -11, -10,\n",
       "        -9,  -8,  -7,  -6,  -5,  -4,  -5,  -6,  -7,  -8,  -7,  -8,  -7,\n",
       "        -6,  -5,  -6,  -5,  -6,  -7,  -6,  -5,  -6,  -5,  -4,  -3,  -4,\n",
       "        -5,  -6,  -7,  -6,  -7,  -8,  -7,  -8,  -7,  -6,  -5,  -6,  -7,\n",
       "        -8,  -9,  -8,  -9, -10, -11, -12, -11, -12, -13, -14, -13, -12,\n",
       "       -13, -12, -13, -14, -13, -14, -13, -14, -13, -12, -11, -12, -11,\n",
       "       -10,  -9, -10, -11, -10,  -9, -10,  -9,  -8,  -7,  -8,  -7,  -8,\n",
       "        -9, -10, -11, -10, -11, -12, -11, -10, -11, -10, -11, -10,  -9,\n",
       "       -10, -11, -12, -13, -12, -13, -12, -13, -14, -15, -14, -13, -12,\n",
       "       -11, -12, -13, -12, -11, -12, -11, -10,  -9,  -8,  -7,  -8,  -9,\n",
       "        -8,  -7,  -8,  -7,  -8,  -9, -10, -11, -10,  -9,  -8,  -7,  -8,\n",
       "        -9, -10, -11, -12, -13, -12, -11, -12, -13, -14, -15, -14, -15,\n",
       "       -16, -17, -18, -19, -20, -19, -18, -19, -20, -21, -22, -21, -20,\n",
       "       -21, -22, -21, -22, -21, -20, -21, -20, -21, -20, -19, -18, -19,\n",
       "       -20, -21, -22, -21, -20, -21, -22, -21, -20, -19, -18, -17, -16,\n",
       "       -15, -14, -15, -16, -15, -16, -15, -14, -15, -16, -17, -16, -15,\n",
       "       -16, -15, -14, -13, -12, -13, -12, -11, -10,  -9,  -8,  -9, -10,\n",
       "       -11, -12, -13, -12, -11, -10,  -9, -10, -11, -10, -11, -12, -11,\n",
       "       -10,  -9,  -8,  -7,  -8,  -9, -10,  -9, -10,  -9, -10, -11, -10,\n",
       "        -9, -10,  -9, -10,  -9, -10,  -9, -10,  -9, -10, -11, -12, -11,\n",
       "       -12, -11, -10,  -9,  -8,  -7,  -6,  -5,  -6,  -7,  -8,  -7,  -8,\n",
       "        -7,  -6,  -5,  -6,  -5,  -4,  -5,  -4,  -5,  -6,  -7,  -8,  -7,\n",
       "        -8,  -7,  -8,  -7,  -8,  -9, -10, -11, -12, -11, -10,  -9,  -8,\n",
       "        -9,  -8,  -7,  -6,  -5,  -4,  -5,  -6,  -7,  -6,  -7,  -6,  -5,\n",
       "        -6,  -5,  -6,  -5,  -4,  -5,  -6,  -5,  -6,  -5,  -4,  -3,  -2,\n",
       "        -3,  -4,  -3,  -2,  -1,   0,   1,   0,   1,   2,   1,   2,   3,\n",
       "         2,   3,   2,   3,   2,   1,   2,   3,   4,   3,   2,   3,   2,\n",
       "         1,   0,  -1,  -2,  -3,  -2,  -1,  -2,  -3,  -2,  -1,  -2])"
      ]
     },
     "execution_count": 237,
     "metadata": {},
     "output_type": "execute_result"
    }
   ],
   "source": [
    "walk = steps.cumsum()\n",
    "walk"
   ]
  },
  {
   "cell_type": "code",
   "execution_count": 238,
   "metadata": {},
   "outputs": [
    {
     "data": {
      "text/plain": [
       "-27"
      ]
     },
     "execution_count": 238,
     "metadata": {},
     "output_type": "execute_result"
    }
   ],
   "source": [
    "walk.min()"
   ]
  },
  {
   "cell_type": "code",
   "execution_count": 239,
   "metadata": {},
   "outputs": [
    {
     "data": {
      "text/plain": [
       "4"
      ]
     },
     "execution_count": 239,
     "metadata": {},
     "output_type": "execute_result"
    }
   ],
   "source": [
    "walk.max()"
   ]
  },
  {
   "cell_type": "code",
   "execution_count": 253,
   "metadata": {},
   "outputs": [
    {
     "data": {
      "text/plain": [
       "38"
      ]
     },
     "execution_count": 253,
     "metadata": {},
     "output_type": "execute_result"
    }
   ],
   "source": [
    "(np.abs(walk) > 10).argmax(0)"
   ]
  },
  {
   "cell_type": "code",
   "execution_count": 260,
   "metadata": {},
   "outputs": [
    {
     "data": {
      "text/plain": [
       "<function argmax>"
      ]
     },
     "execution_count": 260,
     "metadata": {},
     "output_type": "execute_result"
    }
   ],
   "source": [
    "(np.abs(walk) > 10).argmax"
   ]
  },
  {
   "cell_type": "code",
   "execution_count": 261,
   "metadata": {},
   "outputs": [
    {
     "data": {
      "text/plain": [
       "-3"
      ]
     },
     "execution_count": 261,
     "metadata": {},
     "output_type": "execute_result"
    }
   ],
   "source": [
    "walk[16]"
   ]
  },
  {
   "cell_type": "code",
   "execution_count": 267,
   "metadata": {
    "collapsed": true
   },
   "outputs": [],
   "source": [
    "nwalks = 5000\n",
    "nsteps = 1000\n",
    "draws = np.random.randint(0, 2, size=(nwalks, nsteps))"
   ]
  },
  {
   "cell_type": "code",
   "execution_count": 269,
   "metadata": {},
   "outputs": [
    {
     "data": {
      "text/plain": [
       "array([[ 1, -1, -1, ..., -1,  1, -1],\n",
       "       [ 1, -1,  1, ...,  1,  1, -1],\n",
       "       [ 1,  1, -1, ..., -1,  1,  1],\n",
       "       ..., \n",
       "       [-1, -1, -1, ...,  1,  1,  1],\n",
       "       [-1,  1, -1, ...,  1,  1,  1],\n",
       "       [ 1, -1, -1, ...,  1, -1,  1]])"
      ]
     },
     "execution_count": 269,
     "metadata": {},
     "output_type": "execute_result"
    }
   ],
   "source": [
    "steps = np.where(draws > 0, 1, -1)\n",
    "steps"
   ]
  },
  {
   "cell_type": "code",
   "execution_count": 297,
   "metadata": {},
   "outputs": [],
   "source": [
    "walks = steps.cumsum(1)"
   ]
  },
  {
   "cell_type": "code",
   "execution_count": 298,
   "metadata": {},
   "outputs": [
    {
     "data": {
      "text/plain": [
       "(array([[  1,   0,  -1, ..., -74, -73, -74],\n",
       "        [  1,   0,   1, ...,  14,  15,  14],\n",
       "        [  1,   2,   1, ...,  40,  41,  42],\n",
       "        ..., \n",
       "        [ -1,  -2,  -3, ...,   2,   3,   4],\n",
       "        [ -1,   0,  -1, ..., -14, -13, -12],\n",
       "        [  1,   0,  -1, ...,  68,  67,  68]]), 5000)"
      ]
     },
     "execution_count": 298,
     "metadata": {},
     "output_type": "execute_result"
    }
   ],
   "source": [
    "walks, len(walks)"
   ]
  },
  {
   "cell_type": "code",
   "execution_count": 299,
   "metadata": {},
   "outputs": [
    {
     "data": {
      "text/plain": [
       "(-115, 124)"
      ]
     },
     "execution_count": 299,
     "metadata": {},
     "output_type": "execute_result"
    }
   ],
   "source": [
    "walks.min(), walks.max()"
   ]
  },
  {
   "cell_type": "code",
   "execution_count": 306,
   "metadata": {
    "collapsed": true
   },
   "outputs": [],
   "source": [
    "hits30 = (np.abs(walks) >= 30).any(1)"
   ]
  },
  {
   "cell_type": "code",
   "execution_count": 307,
   "metadata": {},
   "outputs": [
    {
     "data": {
      "text/plain": [
       "(array([ True, False,  True, ...,  True, False,  True], dtype=bool), 5000)"
      ]
     },
     "execution_count": 307,
     "metadata": {},
     "output_type": "execute_result"
    }
   ],
   "source": [
    "hits30, len(hits30)"
   ]
  },
  {
   "cell_type": "code",
   "execution_count": 308,
   "metadata": {},
   "outputs": [
    {
     "data": {
      "text/plain": [
       "array([ True, False,  True, ...,  True, False,  True], dtype=bool)"
      ]
     },
     "execution_count": 308,
     "metadata": {},
     "output_type": "execute_result"
    }
   ],
   "source": [
    "(np.abs(walks) >= 30).any(1)"
   ]
  },
  {
   "cell_type": "code",
   "execution_count": 312,
   "metadata": {},
   "outputs": [
    {
     "data": {
      "text/plain": [
       "3379"
      ]
     },
     "execution_count": 312,
     "metadata": {},
     "output_type": "execute_result"
    }
   ],
   "source": [
    "hits30.sum()"
   ]
  },
  {
   "cell_type": "code",
   "execution_count": 313,
   "metadata": {
    "collapsed": true
   },
   "outputs": [],
   "source": [
    "crossing_times = (np.abs(walks[hits30]) >= 30).argmax()"
   ]
  },
  {
   "cell_type": "code",
   "execution_count": 314,
   "metadata": {},
   "outputs": [
    {
     "data": {
      "text/plain": [
       "261"
      ]
     },
     "execution_count": 314,
     "metadata": {},
     "output_type": "execute_result"
    }
   ],
   "source": [
    "crossing_times"
   ]
  },
  {
   "cell_type": "code",
   "execution_count": 315,
   "metadata": {},
   "outputs": [
    {
     "data": {
      "text/plain": [
       "261.0"
      ]
     },
     "execution_count": 315,
     "metadata": {},
     "output_type": "execute_result"
    }
   ],
   "source": [
    "crossing_times.mean()"
   ]
  },
  {
   "cell_type": "code",
   "execution_count": 287,
   "metadata": {},
   "outputs": [
    {
     "data": {
      "text/plain": [
       "array([[False, False, False, ..., False, False, False],\n",
       "       [False, False, False, ...,  True,  True,  True],\n",
       "       [False, False, False, ..., False, False, False],\n",
       "       ..., \n",
       "       [False, False, False, ..., False, False, False],\n",
       "       [False, False, False, ..., False, False, False],\n",
       "       [False, False, False, ...,  True,  True,  True]], dtype=bool)"
      ]
     },
     "execution_count": 287,
     "metadata": {},
     "output_type": "execute_result"
    }
   ],
   "source": [
    "np.abs(walks[hits30]>=30)"
   ]
  },
  {
   "cell_type": "code",
   "execution_count": null,
   "metadata": {
    "collapsed": true
   },
   "outputs": [],
   "source": []
  }
 ],
 "metadata": {
  "kernelspec": {
   "display_name": "Python 2",
   "language": "python",
   "name": "python2"
  },
  "language_info": {
   "codemirror_mode": {
    "name": "ipython",
    "version": 2
   },
   "file_extension": ".py",
   "mimetype": "text/x-python",
   "name": "python",
   "nbconvert_exporter": "python",
   "pygments_lexer": "ipython2",
   "version": "2.7.10"
  }
 },
 "nbformat": 4,
 "nbformat_minor": 2
}
